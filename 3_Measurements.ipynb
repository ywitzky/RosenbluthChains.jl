{
 "cells": [
  {
   "cell_type": "markdown",
   "metadata": {},
   "source": [
    "### copying the precious stuff again."
   ]
  },
  {
   "cell_type": "code",
   "execution_count": 4,
   "metadata": {},
   "outputs": [
    {
     "name": "stderr",
     "output_type": "stream",
     "text": [
      "\u001b[32m\u001b[1m  Activating\u001b[22m\u001b[39m project at `~/Code_Projects/rosenbluthchains/~/CodeProjects/RosenbluthChains`\n"
     ]
    }
   ],
   "source": [
    "using Pkg\n",
    "\n",
    "#Pkg.activate(\"path/to/project\")\n",
    "Pkg.activate(\"~/CodeProjects/RosenbluthChains/\")\n",
    "###julia ]; activate ; dev --local PathToRosenbluthPackage\n",
    "#Pkg.instantiate()\n",
    "using RosenbluthChains, Plots"
   ]
  },
  {
   "cell_type": "code",
   "execution_count": 5,
   "metadata": {},
   "outputs": [
    {
     "data": {
      "text/plain": [
       "GetTrialBoltzmannWeight (generic function with 1 method)"
      ]
     },
     "metadata": {},
     "output_type": "display_data"
    }
   ],
   "source": [
    "### type definition\n",
    "mutable struct My_Measurement{T<:Real} <: AbstractMeasurement \n",
    "    x::Vector{T}\n",
    "    y::Vector{T}\n",
    "    z::Vector{T}\n",
    "end\n",
    "My_Measurement(N::Int) = My_Measurement{Float64}(zeros(N), zeros(N), zeros(N)) ### constructs a Measurement \n",
    "\n",
    "### initialise measurments with empty vectors\n",
    "function RosenbluthChains.InitMeasurement(data::SimData, param::SimulationParameters, Tmp::My_Measurement) \n",
    "    return My_Measurement(data.NBeads)\n",
    "end \n",
    "\n",
    "\n",
    "### does nothing\n",
    "function RosenbluthChains.MeasureAfterBatch(data::SimData, param::SimulationParameters, Measurement::My_Measurement) \n",
    "    nothing\n",
    "end\n",
    "\n",
    "function RosenbluthChains.MeasureAfterChainGrowth(data::SimData, param::SimulationParameters,Measurement::My_Measurement) \n",
    "    Measurement.x = getindex.(data.xyz, 1) ### gets the first element for each element of data.xyz\n",
    "    Measurement.y = getindex.(data.xyz, 2) ### gets the second element for each element of data.xyz\n",
    "    Measurement.z = getindex.(data.xyz, 3) ### gets the third element for each element of data.xyz\n",
    "end\n",
    "\n",
    "### does nothing\n",
    "function SaveMeasurements(data::SimData, param::SimulationParameters,Measurement::My_Measurement) \n",
    "    nothing\n",
    "end\n",
    "\n",
    "\n",
    "#https://hoomd-blue.readthedocs.io/en/v4.7.0/module-md-angle.html#hoomd.md.angle.Harmonic\n",
    "mutable struct HarmonicBondLength{T<:Real} <: RosenbluthChains.AbstractBondParam \n",
    "    k  ::T ### bond strength for all particles\n",
    "    r0 ::T ### minima of the bond length potential\n",
    "    Δr ::T ### sampling width=> take values from interval [r0-Δr, r0+Δr]\n",
    "end\n",
    "HarmonicBondLength(k ::T, r0::T, Δr::T) where {T<:Real} = HarmonicBondLength{T}(k, r0, Δr) ### constructs a Measurement \n",
    "\n",
    "@inline function SetTrialRadius(data::SimData, param::HarmonicBondLength)\n",
    "   rand!(data.trial_radius, eltype(data.TType)) ### created NTrial many random number ∈ [0,1]\n",
    "   data.trial_radius .*= 2.0*param.Δr ### ∈ [0, 2Δr]\n",
    "   data.trial_radius .+= param.r0-param.Δr ### ∈ [r0-Δr, r0+Δr]\n",
    "   return nothing\n",
    "end\n",
    "\n",
    "\n",
    "@inline function GetTrialBoltzmannWeight(data::SimData,param::HarmonicBondLength) \n",
    "    fill!(data.tmp4, 0.0) ### temporary array of length NTrials that i will use to store the energy\n",
    "\n",
    "    data.tmp4  .= @. 1.0/2.0*(data.trial_radius-r0)^2 ### compute energies\n",
    "\n",
    "    ### here comes a numerical trick to stabilise, we add the energies of al potentials first and take the exponential in \"GetTrialBoltzmannWeight\" before we have to choose the positions in \"ChooseTrialPosition\"\n",
    "    # -= since we have to add all energies and take exp(-kt*E); kt=1\n",
    "    data.LogBoltzmannFaktor .-= data.tmp4\n",
    "    return nothing\n",
    "end"
   ]
  },
  {
   "cell_type": "markdown",
   "metadata": {},
   "source": [
    "### Exercise: Write a meausurement for the Radius of Gyration RG and The end-to-end distance REE of a polymer."
   ]
  },
  {
   "cell_type": "code",
   "execution_count": null,
   "metadata": {},
   "outputs": [],
   "source": []
  },
  {
   "cell_type": "markdown",
   "metadata": {},
   "source": [
    "### Exercise: Scaling laws of polymers\n",
    "Many polymer concepts evolve around the concept of scaling laws which deal with the influcence of chain length. The normally have the form of a power law : f(N) = a*N^ν\n",
    "\n",
    "Can you determine whether RG and REE follow a power law and what these values would be? Use your harmonic bond model and random angles.\n",
    "\n",
    "How does the influence differ between the an ideal chain (IdealChain()) and a polymer model which uses excluded volumne of radius r (LJ_Repulsion(ones(Int64,N),Dict(1 => r), r ))?\n",
    "\n",
    "Do the values of RG and REE correlate in any sense?"
   ]
  },
  {
   "cell_type": "code",
   "execution_count": null,
   "metadata": {},
   "outputs": [],
   "source": []
  },
  {
   "cell_type": "markdown",
   "metadata": {},
   "source": [
    "### Optional Exercise: Persistence length\n",
    "The persistence length is a measure which determines how quickly the direction of bond vector u_i and u_j become decorrelated so that they are independent of each other. The persistence length is defined as a decay length after which the scalar product <u_i, u_j> = exp(abs(i-j)/lp)=0.5.\n",
    "\n",
    "Mesure the persistence length for several prefactors of your harmonic angle potential using the following definition of a polymer:\n",
    "KP = SimulationParameters( FixedBondParameters(r),HarmonicBondAngles(ones(....)), RandTorsion(), LJ_Repulsion(ones(Int64,N),Dict(1 => r), r ))"
   ]
  },
  {
   "cell_type": "code",
   "execution_count": null,
   "metadata": {},
   "outputs": [],
   "source": []
  },
  {
   "cell_type": "code",
   "execution_count": null,
   "metadata": {},
   "outputs": [],
   "source": []
  }
 ],
 "metadata": {
  "kernelspec": {
   "display_name": "Julia 1.9.3",
   "language": "julia",
   "name": "julia-1.9"
  },
  "language_info": {
   "file_extension": ".jl",
   "mimetype": "application/julia",
   "name": "julia",
   "version": "1.9.3"
  }
 },
 "nbformat": 4,
 "nbformat_minor": 2
}
