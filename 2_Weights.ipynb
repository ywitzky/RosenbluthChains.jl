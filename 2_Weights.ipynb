{
 "cells": [
  {
   "cell_type": "markdown",
   "metadata": {},
   "source": [
    "### copying the code from previous exercise"
   ]
  },
  {
   "cell_type": "code",
   "execution_count": 1,
   "metadata": {},
   "outputs": [
    {
     "name": "stderr",
     "output_type": "stream",
     "text": [
      "\u001b[32m\u001b[1m  Activating\u001b[22m\u001b[39m project at `~/Code_Projects/rosenbluthchains/~/CodeProjects/RosenbluthChains`\n"
     ]
    }
   ],
   "source": [
    "using Pkg\n",
    "\n",
    "#Pkg.activate(\"path/to/project\")\n",
    "Pkg.activate(\"~/CodeProjects/RosenbluthChains/\")\n",
    "###julia ]; activate ; dev --local PathToRosenbluthPackage\n",
    "#Pkg.instantiate()\n",
    "using RosenbluthChains, Plots"
   ]
  },
  {
   "cell_type": "code",
   "execution_count": null,
   "metadata": {},
   "outputs": [],
   "source": [
    "### type definition\n",
    "mutable struct My_Measurement{T<:Real} <: AbstractMeasurement \n",
    "    x::Vector{T}\n",
    "    y::Vector{T}\n",
    "    z::Vector{T}\n",
    "end\n",
    "My_Measurement(N::Int) = My_Measurement{Float64}(zeros(N), zeros(N), zeros(N)) ### constructs a Measurement \n",
    "\n",
    "### initialise measurments with empty vectors\n",
    "function RosenbluthChains.InitMeasurement(data::SimData, param::SimulationParameters, Tmp::My_Measurement) \n",
    "    return My_Measurement(data.NBeads)\n",
    "end \n",
    "\n",
    "\n",
    "### does nothing\n",
    "function RosenbluthChains.MeasureAfterBatch(data::SimData, param::SimulationParameters, Measurement::My_Measurement) \n",
    "    nothing\n",
    "end\n",
    "\n",
    "function RosenbluthChains.MeasureAfterChainGrowth(data::SimData, param::SimulationParameters,Measurement::My_Measurement) \n",
    "    Measurement.x = getindex.(data.xyz, 1) ### gets the first element for each element of data.xyz\n",
    "    Measurement.y = getindex.(data.xyz, 2) ### gets the second element for each element of data.xyz\n",
    "    Measurement.z = getindex.(data.xyz, 3) ### gets the third element for each element of data.xyz\n",
    "end\n",
    "\n",
    "### does nothing\n",
    "function SaveMeasurements(data::SimData, param::SimulationParameters,Measurement::My_Measurement) \n",
    "    nothing\n",
    "end\n",
    "\n",
    "\n",
    "#https://hoomd-blue.readthedocs.io/en/v4.7.0/module-md-angle.html#hoomd.md.angle.Harmonic\n",
    "mutable struct HarmonicBondLength{T<:Real} <: RosenbluthChains.AbstractBondParam \n",
    "    k  ::T ### bond strength for all particles\n",
    "    r0 ::T ### minima of the bond length potential\n",
    "    Δr ::T ### sampling width=> take values from interval [r0-Δr, r0+Δr]\n",
    "end\n",
    "HarmonicBondLength(k ::T, r0::T, Δr::T) where {T<:Real} = HarmonicBondLength{T}(k, r0, Δr) ### constructs a Measurement \n",
    "\n",
    "@inline function SetTrialRadius(data::SimData, param::HarmonicBondLength)\n",
    "   rand!(data.trial_radius, eltype(data.TType)) ### created NTrial many random number ∈ [0,1]\n",
    "   data.trial_radius .*= 2.0*param.Δr ### ∈ [0, 2Δr]\n",
    "   data.trial_radius .+= param.r0-param.Δr ### ∈ [r0-Δr, r0+Δr]\n",
    "   return nothing\n",
    "end\n",
    "\n",
    "\n",
    "@inline function GetTrialBoltzmannWeight(data::SimData,param::HarmonicBondLength) \n",
    "    fill!(data.tmp4, 0.0) ### temporary array of length NTrials that i will use to store the energy\n",
    "\n",
    "    data.tmp4  .= @. 1.0/2.0*(data.trial_radius-r0)^2 ### compute energies\n",
    "\n",
    "    ### here comes a numerical trick to stabilise, we add the energies of al potentials first and take the exponential in \"GetTrialBoltzmannWeight\" before we have to choose the positions in \"ChooseTrialPosition\"\n",
    "    # -= since we have to add all energies and take exp(-kt*E); kt=1\n",
    "    data.LogBoltzmannFaktor .-= data.tmp4\n",
    "    return nothing\n",
    "end"
   ]
  },
  {
   "cell_type": "markdown",
   "metadata": {},
   "source": [
    "### Exercise: Sampling Width in the Harmonic Potential\n",
    "What happens when fix the value for bond strength k while varying the sampling with Δr? How would you choose Δr and why? Thinking about the tests from 1_Radius.ipynb might help.\n"
   ]
  },
  {
   "cell_type": "code",
   "execution_count": 2,
   "metadata": {},
   "outputs": [],
   "source": []
  },
  {
   "cell_type": "markdown",
   "metadata": {},
   "source": [
    "### Exercise: Rosenbluth Weight\n",
    "Compute the Rosenbluth for an ideal chain with random bond angles and dihedral angles with an harmonic bond potential. How does the Rosenbluth weight compare for a chain where each bond is exactly r0 compared to our method where we get variance for the bond distance. ? How do these weights differ for varying polymer length N? "
   ]
  },
  {
   "cell_type": "code",
   "execution_count": null,
   "metadata": {},
   "outputs": [],
   "source": []
  },
  {
   "cell_type": "code",
   "execution_count": null,
   "metadata": {},
   "outputs": [],
   "source": []
  },
  {
   "cell_type": "markdown",
   "metadata": {},
   "source": [
    "### Advanced Exercise/ Discussion: More Efficiency\n",
    "Can generate we generate polymer chains in a way such that the weight does not decay with the length of the polymer. In other works can be sample close to the minima of the potentials such that we do an importance sampling where the important configurations are generate with high weights quicker. This would enhance numerical stability and sample more efficiently. \n",
    "\n",
    "Optional: Implement a method that would improve the sampling of an harmonic bond."
   ]
  },
  {
   "cell_type": "code",
   "execution_count": null,
   "metadata": {},
   "outputs": [],
   "source": []
  },
  {
   "cell_type": "code",
   "execution_count": null,
   "metadata": {},
   "outputs": [],
   "source": []
  }
 ],
 "metadata": {
  "kernelspec": {
   "display_name": "Julia 1.9.3",
   "language": "julia",
   "name": "julia-1.9"
  },
  "language_info": {
   "file_extension": ".jl",
   "mimetype": "application/julia",
   "name": "julia",
   "version": "1.9.3"
  }
 },
 "nbformat": 4,
 "nbformat_minor": 2
}
